{
 "cells": [
  {
   "cell_type": "code",
   "execution_count": 1,
   "metadata": {
    "collapsed": false
   },
   "outputs": [],
   "source": [
    "with open('adjektiv.csv') as f:\n",
    "    data = list(f)"
   ]
  },
  {
   "cell_type": "code",
   "execution_count": 2,
   "metadata": {
    "collapsed": false
   },
   "outputs": [
    {
     "data": {
      "text/plain": [
       "['adj,noun\\n',\n",
       " 'wenig,Minuten\\n',\n",
       " 'unglaublich,Blick\\n',\n",
       " 'viel,Holz\\n',\n",
       " 'klar,Optik\\n',\n",
       " 'freundlich,Service\\n',\n",
       " 'jeder,Fall\\n',\n",
       " 'positive,Grundgef\\xc3\\xbchl\\n',\n",
       " 'gro\\xc3\\x9f,Anteil\\n',\n",
       " 'weiter,Vorzug\\n',\n",
       " 'jung,Seehotel\\n',\n",
       " 'edel,Spa\\n',\n",
       " 'regional,Gourmetk\\xc3\\xbcche\\n',\n",
       " 'fantastich,Sky-Lounge\\n',\n",
       " 'japanisch,Badekultur\\n',\n",
       " 'eng,Beziehung\\n',\n",
       " 'japanisch,Thermalbad\\n',\n",
       " 'traditionell,Hei\\xc3\\x9fwasserbecken\\n',\n",
       " 'vielf\\xc3\\xa4ltig,Outdoor-Saunalandschaft\\n',\n",
       " 'finnisch,H\\xc3\\xbcttensauna\\n',\n",
       " 'breit,Angebot\\n',\n",
       " 'besonder,Reiz\\n',\n",
       " '\\xc3\\xb6ffentlich,Bereich\\n',\n",
       " 'jeder,Komfort\\n',\n",
       " 'erdenklich,Komfort\\n',\n",
       " 'fl\\xc3\\xa4chig,Holzinterieur\\n',\n",
       " 'hell,Holzinterieur\\n',\n",
       " 'gro\\xc3\\x9f,Fenster\\n',\n",
       " 'japanisch,Element\\n',\n",
       " 'hauseigen,Design\\n',\n",
       " 'toll,Seeblick\\n',\n",
       " 'klein,Strand\\n',\n",
       " 'atemberaubend,Blick\\n',\n",
       " 'gut,K\\xc3\\xbcche\\n',\n",
       " 'entspannt,Atmosph\\xc3\\xa4re\\n',\n",
       " 'leiblich,Wohl\\n',\n",
       " 'reichhaltig,Fr\\xc3\\xbchst\\xc3\\xbccksb\\xc3\\xbcfett\\n',\n",
       " 'klein,Mittagskarte\\n',\n",
       " 'ausgezeichnet,Feinschmeckerk\\xc3\\xbcche \\n',\n",
       " 'm\\xc3\\xb6bliert,Lounge\\n',\n",
       " 'sch\\xc3\\xb6n,Au\\xc3\\x9fenpool\\n',\n",
       " 'gro\\xc3\\x9fz\\xc3\\xbcgig,Au\\xc3\\x9fenpool\\n',\n",
       " 'm\\xc3\\xb6bliert,Liegewiese\\n',\n",
       " 'n\\xc3\\xb6rdlich,Seeufer\\n',\n",
       " 'herrschaftlich,Pfarrhaus\\n',\n",
       " 'sein,Zimmer\\n',\n",
       " 'lichtdurchflutet,Wintergarten\\n',\n",
       " 'gehoben,Gastlichkeit\\n',\n",
       " 'gr\\xc3\\xb6\\xc3\\x9ftm\\xc3\\xb6glich,Komfort\\n',\n",
       " 'individuell,Service\\n',\n",
       " 'mehrer,Tagungsraum\\n',\n",
       " 'luxuri\\xc3\\xb6s,Angebot\\n',\n",
       " 'elegant,Atmosph\\xc3\\xa4re\\n',\n",
       " 'historisch,Ambiente\\n',\n",
       " 'barock,Charme\\n',\n",
       " 'modern,Komfort\\n',\n",
       " 'schlicht,Eleganz\\n',\n",
       " 'hell,Leichtigkeit\\n',\n",
       " 'warm,Holzton\\n',\n",
       " 'einzigartig,Weise\\n',\n",
       " 'kraftig,Farbe\\n',\n",
       " 'edel,Antiquit\\xc3\\xa4ten\\n',\n",
       " 'zeitgen\\xc3\\xb6ssisch,Kunst\\n',\n",
       " 'all,Bereich\\n',\n",
       " 'opulent,Pracht\\n',\n",
       " 'ger\\xc3\\xa4umig,Palais-Suite\\n',\n",
       " 'separat,WC\\n',\n",
       " 'luxuri\\xc3\\xb6s,Einrichtung\\n',\n",
       " 'edel,Stoff\\n',\n",
       " 'hochwertig,Material\\n',\n",
       " 'kostenlos,WLAN\\n',\n",
       " 'ausgezeichnet,Sternek\\xc3\\xbcche\\n',\n",
       " 'elegant,Rahmen\\n',\n",
       " 'moderne,K\\xc3\\xbcche\\n',\n",
       " 'saisonale,K\\xc3\\xbcche\\n',\n",
       " 'franz\\xc3\\xb6sisch-mediterran,K\\xc3\\xbcche\\n',\n",
       " 'kreativ,Idee\\n',\n",
       " 'kulinarisch,K\\xc3\\xb6stlichkeit\\n',\n",
       " 'historisch,Altstadt\\n',\n",
       " 'direkt,N\\xc3\\xa4he\\n',\n",
       " 'barock,Dreik\\xc3\\xb6nigskirche\\n',\n",
       " 'beste,Lage\\n',\n",
       " 'dekorativ,Fassade\\n',\n",
       " 'romantisch,Gasse\\n',\n",
       " 'idyllisch,Innenhof\\n',\n",
       " 'ber\\xc3\\xbchmt,Sehensw\\xc3\\xbcrdigkeit\\n',\n",
       " 'nah,Elbe\\n',\n",
       " 'opulent,Fr\\xc3\\xbchst\\xc3\\xbccksb\\xc3\\xbcfett\\n',\n",
       " 'gem\\xc3\\xbctlich,Bistro\\n',\n",
       " 'mond\\xc3\\xa4n,Bar\\n',\n",
       " 'opulent,Mahl\\n',\n",
       " 'frisch,Produkt\\n',\n",
       " 'hausgemacht,Spezialit\\xc3\\xa4t\\n',\n",
       " 'reichhaltig,Angebot\\n',\n",
       " 'weiter,Service\\n',\n",
       " 'romantisch,Fr\\xc3\\xbchst\\xc3\\xbcck\\n',\n",
       " 'leicht,Gericht\\n',\n",
       " 'deutsch,Gericht\\n',\n",
       " 'regional,Gericht\\n',\n",
       " 'klein,Snack\\n',\n",
       " 'gro\\xc3\\x9f,Glaskuppeldach\\n',\n",
       " 'lichtdurchflutet,Wintergarten\\n',\n",
       " 'gr\\xc3\\xbcn,Marmorboden\\n',\n",
       " 'schimmernd,Marmorboden\\n',\n",
       " 'ger\\xc3\\xbchmt,Gourmetrestaurant\\n',\n",
       " 'altenglisch,Clubatmosph\\xc3\\xa4re\\n',\n",
       " 'vorz\\xc3\\xbcglich,Weinkarte\\n',\n",
       " 'exzellent,Cocktail\\n',\n",
       " 'gastronomisch,Angebot\\n',\n",
       " 'exklusiv,Spa\\n',\n",
       " 'modern,Fitnessraum\\n',\n",
       " 'hoteleigen,Spa\\n',\n",
       " 'neu,Spannkraft\\n',\n",
       " 'exklusiv,Wellnessbereich\\n',\n",
       " 'kostenfrei,Fitnessraum\\n',\n",
       " 'modern,Ger\\xc3\\xa4t\\n',\n",
       " 'nat\\xc3\\xbcrlich,Substanz\\n',\n",
       " 'exotisch-karibisch,Stil\\n',\n",
       " 'finnisch,Sauna\\n',\n",
       " 'romantisch,Kutschfahrt\\n',\n",
       " 'ruhig,Lage\\n',\n",
       " 'zentral,Lage\\n',\n",
       " 'direkt,Nachbarschaft\\n',\n",
       " 'historisch,Altstadt\\n',\n",
       " 'geschmackvoll,R\\xc3\\xa4umlichkeit\\n',\n",
       " 'privat,Feiern\\n',\n",
       " 'gesch\\xc3\\xa4ftlich,Meeting\\n',\n",
       " 'stilvoll,Suite\\n',\n",
       " 'hell,Tagungsraum\\n',\n",
       " 'modern,Technik\\n',\n",
       " 'individuell,Service\\n',\n",
       " 'klein,Designhotel\\n',\n",
       " 'hochexklusiv,Designhotel\\n',\n",
       " 'einzigartig,Glaskuppelsuite\\n',\n",
       " 'fantastisch,Ostseeblick\\n',\n",
       " 'schick,Raumgestaltung\\n',\n",
       " 'stilvoll,Spa\\n',\n",
       " 'gro\\xc3\\x9f,Klasse\\n',\n",
       " 'lang,Reihe\\n',\n",
       " 'bildsch\\xc3\\xb6n,Strandvilla\\n',\n",
       " 'historisch,Hotel\\n',\n",
       " 'eindrucksvoll,Glaskuppel\\n',\n",
       " 'wilhelminisch,B\\xc3\\xa4derachitektur\\n',\n",
       " 'edel,Schwarzt\\xc3\\xb6ne\\n',\n",
       " '\\xc3\\xbcberraschend,Harmonieeffekt\\n',\n",
       " 'klein,Spa\\n',\n",
       " 'edel,Spa\\n',\n",
       " 'engagiert,Service\\n',\n",
       " 'klein,Luxushotel\\n',\n",
       " 'raumhoch,Fenster\\n',\n",
       " 'reichlich,Licht\\n',\n",
       " 'stylisch,Einrichtung\\n',\n",
       " 'hochkar\\xc3\\xa4tig,Austattung\\n',\n",
       " 'ultrakomfortabel,Kingsize-Bett\\n',\n",
       " 'regional,Spitzenk\\xc3\\xbcche\\n',\n",
       " 'gro\\xc3\\x9fz\\xc3\\xbcgig,Fenster\\n',\n",
       " 'weiter,Genuss-Highlight\\n',\n",
       " 'mehrer,Sauna\\n',\n",
       " 'verschieden,Treatment\\n',\n",
       " 'klassisch,Massage\\n',\n",
       " '58,Zimmer\\n',\n",
       " '1730,Jahr\\n',\n",
       " '2010,Jahr\\n',\n",
       " '58,Zimmer\\n',\n",
       " '90,qm\\n',\n",
       " '2,Schlafraum\\n',\n",
       " '2,Bad\\n',\n",
       " '1,Stern\\n',\n",
       " '17,GaultMillau-Punkt\\n',\n",
       " '3,Haube\\n',\n",
       " '4,Diamant\\n',\n",
       " '2013,Jahr\\n',\n",
       " '13,km\\n',\n",
       " '15,Minuten\\n',\n",
       " '1.5,km\\n',\n",
       " '1,km\\n',\n",
       " '10,km\\n',\n",
       " '4,R\\xc3\\xa4umlichkeit\\n',\n",
       " '120,Person\\n',\n",
       " '48,G\\xc3\\xa4stezimmer']"
      ]
     },
     "execution_count": 2,
     "metadata": {},
     "output_type": "execute_result"
    }
   ],
   "source": [
    "data"
   ]
  },
  {
   "cell_type": "code",
   "execution_count": 3,
   "metadata": {
    "collapsed": false
   },
   "outputs": [],
   "source": [
    "tuples = list(z.decode('utf-8').rstrip('\\n').split(',') for z in data)"
   ]
  },
  {
   "cell_type": "code",
   "execution_count": 4,
   "metadata": {
    "collapsed": false
   },
   "outputs": [
    {
     "data": {
      "text/plain": [
       "[[u'adj', u'noun'],\n",
       " [u'wenig', u'Minuten'],\n",
       " [u'unglaublich', u'Blick'],\n",
       " [u'viel', u'Holz'],\n",
       " [u'klar', u'Optik'],\n",
       " [u'freundlich', u'Service'],\n",
       " [u'jeder', u'Fall'],\n",
       " [u'positive', u'Grundgef\\xfchl'],\n",
       " [u'gro\\xdf', u'Anteil'],\n",
       " [u'weiter', u'Vorzug'],\n",
       " [u'jung', u'Seehotel'],\n",
       " [u'edel', u'Spa'],\n",
       " [u'regional', u'Gourmetk\\xfcche'],\n",
       " [u'fantastich', u'Sky-Lounge'],\n",
       " [u'japanisch', u'Badekultur'],\n",
       " [u'eng', u'Beziehung'],\n",
       " [u'japanisch', u'Thermalbad'],\n",
       " [u'traditionell', u'Hei\\xdfwasserbecken'],\n",
       " [u'vielf\\xe4ltig', u'Outdoor-Saunalandschaft'],\n",
       " [u'finnisch', u'H\\xfcttensauna'],\n",
       " [u'breit', u'Angebot'],\n",
       " [u'besonder', u'Reiz'],\n",
       " [u'\\xf6ffentlich', u'Bereich'],\n",
       " [u'jeder', u'Komfort'],\n",
       " [u'erdenklich', u'Komfort'],\n",
       " [u'fl\\xe4chig', u'Holzinterieur'],\n",
       " [u'hell', u'Holzinterieur'],\n",
       " [u'gro\\xdf', u'Fenster'],\n",
       " [u'japanisch', u'Element'],\n",
       " [u'hauseigen', u'Design'],\n",
       " [u'toll', u'Seeblick'],\n",
       " [u'klein', u'Strand'],\n",
       " [u'atemberaubend', u'Blick'],\n",
       " [u'gut', u'K\\xfcche'],\n",
       " [u'entspannt', u'Atmosph\\xe4re'],\n",
       " [u'leiblich', u'Wohl'],\n",
       " [u'reichhaltig', u'Fr\\xfchst\\xfccksb\\xfcfett'],\n",
       " [u'klein', u'Mittagskarte'],\n",
       " [u'ausgezeichnet', u'Feinschmeckerk\\xfcche '],\n",
       " [u'm\\xf6bliert', u'Lounge'],\n",
       " [u'sch\\xf6n', u'Au\\xdfenpool'],\n",
       " [u'gro\\xdfz\\xfcgig', u'Au\\xdfenpool'],\n",
       " [u'm\\xf6bliert', u'Liegewiese'],\n",
       " [u'n\\xf6rdlich', u'Seeufer'],\n",
       " [u'herrschaftlich', u'Pfarrhaus'],\n",
       " [u'sein', u'Zimmer'],\n",
       " [u'lichtdurchflutet', u'Wintergarten'],\n",
       " [u'gehoben', u'Gastlichkeit'],\n",
       " [u'gr\\xf6\\xdftm\\xf6glich', u'Komfort'],\n",
       " [u'individuell', u'Service'],\n",
       " [u'mehrer', u'Tagungsraum'],\n",
       " [u'luxuri\\xf6s', u'Angebot'],\n",
       " [u'elegant', u'Atmosph\\xe4re'],\n",
       " [u'historisch', u'Ambiente'],\n",
       " [u'barock', u'Charme'],\n",
       " [u'modern', u'Komfort'],\n",
       " [u'schlicht', u'Eleganz'],\n",
       " [u'hell', u'Leichtigkeit'],\n",
       " [u'warm', u'Holzton'],\n",
       " [u'einzigartig', u'Weise'],\n",
       " [u'kraftig', u'Farbe'],\n",
       " [u'edel', u'Antiquit\\xe4ten'],\n",
       " [u'zeitgen\\xf6ssisch', u'Kunst'],\n",
       " [u'all', u'Bereich'],\n",
       " [u'opulent', u'Pracht'],\n",
       " [u'ger\\xe4umig', u'Palais-Suite'],\n",
       " [u'separat', u'WC'],\n",
       " [u'luxuri\\xf6s', u'Einrichtung'],\n",
       " [u'edel', u'Stoff'],\n",
       " [u'hochwertig', u'Material'],\n",
       " [u'kostenlos', u'WLAN'],\n",
       " [u'ausgezeichnet', u'Sternek\\xfcche'],\n",
       " [u'elegant', u'Rahmen'],\n",
       " [u'moderne', u'K\\xfcche'],\n",
       " [u'saisonale', u'K\\xfcche'],\n",
       " [u'franz\\xf6sisch-mediterran', u'K\\xfcche'],\n",
       " [u'kreativ', u'Idee'],\n",
       " [u'kulinarisch', u'K\\xf6stlichkeit'],\n",
       " [u'historisch', u'Altstadt'],\n",
       " [u'direkt', u'N\\xe4he'],\n",
       " [u'barock', u'Dreik\\xf6nigskirche'],\n",
       " [u'beste', u'Lage'],\n",
       " [u'dekorativ', u'Fassade'],\n",
       " [u'romantisch', u'Gasse'],\n",
       " [u'idyllisch', u'Innenhof'],\n",
       " [u'ber\\xfchmt', u'Sehensw\\xfcrdigkeit'],\n",
       " [u'nah', u'Elbe'],\n",
       " [u'opulent', u'Fr\\xfchst\\xfccksb\\xfcfett'],\n",
       " [u'gem\\xfctlich', u'Bistro'],\n",
       " [u'mond\\xe4n', u'Bar'],\n",
       " [u'opulent', u'Mahl'],\n",
       " [u'frisch', u'Produkt'],\n",
       " [u'hausgemacht', u'Spezialit\\xe4t'],\n",
       " [u'reichhaltig', u'Angebot'],\n",
       " [u'weiter', u'Service'],\n",
       " [u'romantisch', u'Fr\\xfchst\\xfcck'],\n",
       " [u'leicht', u'Gericht'],\n",
       " [u'deutsch', u'Gericht'],\n",
       " [u'regional', u'Gericht'],\n",
       " [u'klein', u'Snack'],\n",
       " [u'gro\\xdf', u'Glaskuppeldach'],\n",
       " [u'lichtdurchflutet', u'Wintergarten'],\n",
       " [u'gr\\xfcn', u'Marmorboden'],\n",
       " [u'schimmernd', u'Marmorboden'],\n",
       " [u'ger\\xfchmt', u'Gourmetrestaurant'],\n",
       " [u'altenglisch', u'Clubatmosph\\xe4re'],\n",
       " [u'vorz\\xfcglich', u'Weinkarte'],\n",
       " [u'exzellent', u'Cocktail'],\n",
       " [u'gastronomisch', u'Angebot'],\n",
       " [u'exklusiv', u'Spa'],\n",
       " [u'modern', u'Fitnessraum'],\n",
       " [u'hoteleigen', u'Spa'],\n",
       " [u'neu', u'Spannkraft'],\n",
       " [u'exklusiv', u'Wellnessbereich'],\n",
       " [u'kostenfrei', u'Fitnessraum'],\n",
       " [u'modern', u'Ger\\xe4t'],\n",
       " [u'nat\\xfcrlich', u'Substanz'],\n",
       " [u'exotisch-karibisch', u'Stil'],\n",
       " [u'finnisch', u'Sauna'],\n",
       " [u'romantisch', u'Kutschfahrt'],\n",
       " [u'ruhig', u'Lage'],\n",
       " [u'zentral', u'Lage'],\n",
       " [u'direkt', u'Nachbarschaft'],\n",
       " [u'historisch', u'Altstadt'],\n",
       " [u'geschmackvoll', u'R\\xe4umlichkeit'],\n",
       " [u'privat', u'Feiern'],\n",
       " [u'gesch\\xe4ftlich', u'Meeting'],\n",
       " [u'stilvoll', u'Suite'],\n",
       " [u'hell', u'Tagungsraum'],\n",
       " [u'modern', u'Technik'],\n",
       " [u'individuell', u'Service'],\n",
       " [u'klein', u'Designhotel'],\n",
       " [u'hochexklusiv', u'Designhotel'],\n",
       " [u'einzigartig', u'Glaskuppelsuite'],\n",
       " [u'fantastisch', u'Ostseeblick'],\n",
       " [u'schick', u'Raumgestaltung'],\n",
       " [u'stilvoll', u'Spa'],\n",
       " [u'gro\\xdf', u'Klasse'],\n",
       " [u'lang', u'Reihe'],\n",
       " [u'bildsch\\xf6n', u'Strandvilla'],\n",
       " [u'historisch', u'Hotel'],\n",
       " [u'eindrucksvoll', u'Glaskuppel'],\n",
       " [u'wilhelminisch', u'B\\xe4derachitektur'],\n",
       " [u'edel', u'Schwarzt\\xf6ne'],\n",
       " [u'\\xfcberraschend', u'Harmonieeffekt'],\n",
       " [u'klein', u'Spa'],\n",
       " [u'edel', u'Spa'],\n",
       " [u'engagiert', u'Service'],\n",
       " [u'klein', u'Luxushotel'],\n",
       " [u'raumhoch', u'Fenster'],\n",
       " [u'reichlich', u'Licht'],\n",
       " [u'stylisch', u'Einrichtung'],\n",
       " [u'hochkar\\xe4tig', u'Austattung'],\n",
       " [u'ultrakomfortabel', u'Kingsize-Bett'],\n",
       " [u'regional', u'Spitzenk\\xfcche'],\n",
       " [u'gro\\xdfz\\xfcgig', u'Fenster'],\n",
       " [u'weiter', u'Genuss-Highlight'],\n",
       " [u'mehrer', u'Sauna'],\n",
       " [u'verschieden', u'Treatment'],\n",
       " [u'klassisch', u'Massage'],\n",
       " [u'58', u'Zimmer'],\n",
       " [u'1730', u'Jahr'],\n",
       " [u'2010', u'Jahr'],\n",
       " [u'58', u'Zimmer'],\n",
       " [u'90', u'qm'],\n",
       " [u'2', u'Schlafraum'],\n",
       " [u'2', u'Bad'],\n",
       " [u'1', u'Stern'],\n",
       " [u'17', u'GaultMillau-Punkt'],\n",
       " [u'3', u'Haube'],\n",
       " [u'4', u'Diamant'],\n",
       " [u'2013', u'Jahr'],\n",
       " [u'13', u'km'],\n",
       " [u'15', u'Minuten'],\n",
       " [u'1.5', u'km'],\n",
       " [u'1', u'km'],\n",
       " [u'10', u'km'],\n",
       " [u'4', u'R\\xe4umlichkeit'],\n",
       " [u'120', u'Person'],\n",
       " [u'48', u'G\\xe4stezimmer']]"
      ]
     },
     "execution_count": 4,
     "metadata": {},
     "output_type": "execute_result"
    }
   ],
   "source": [
    "tuples"
   ]
  },
  {
   "cell_type": "code",
   "execution_count": 5,
   "metadata": {
    "collapsed": true
   },
   "outputs": [],
   "source": [
    "import networkx as nx"
   ]
  },
  {
   "cell_type": "code",
   "execution_count": 6,
   "metadata": {
    "collapsed": false
   },
   "outputs": [],
   "source": [
    "G = nx.Graph()"
   ]
  },
  {
   "cell_type": "code",
   "execution_count": 7,
   "metadata": {
    "collapsed": false
   },
   "outputs": [],
   "source": [
    "for x in xrange(len(tuples)):\n",
    "    edge = (tuples[x][0], tuples[x][1])\n",
    "    if G.has_edge(*edge):\n",
    "        G[edge[0]][edge[1]]['weight'] +=1\n",
    "    else:\n",
    "        G.add_edge(*edge, weight = 1)"
   ]
  },
  {
   "cell_type": "code",
   "execution_count": 8,
   "metadata": {
    "collapsed": true
   },
   "outputs": [],
   "source": [
    "%matplotlib inline"
   ]
  },
  {
   "cell_type": "code",
   "execution_count": 9,
   "metadata": {
    "collapsed": false
   },
   "outputs": [
    {
     "data": {
      "image/png": "[encoded data removed]",
      "text/plain": [
       "<matplotlib.figure.Figure at 0x6af22e8>"
      ]
     },
     "metadata": {},
     "output_type": "display_data"
    }
   ],
   "source": [
    "nx.draw(G, with_labels=True, pos=nx.spectral_layout(G))"
   ]
  },
  {
   "cell_type": "code",
   "execution_count": 10,
   "metadata": {
    "collapsed": true
   },
   "outputs": [],
   "source": [
    "nx.write_graphml(G, 'adj.graphml')"
   ]
  },
  {
   "cell_type": "code",
   "execution_count": 11,
   "metadata": {
    "collapsed": false
   },
   "outputs": [],
   "source": [
    "from networkx.algorithms import bipartite\n",
    "B = nx.Graph()"
   ]
  },
  {
   "cell_type": "code",
   "execution_count": 12,
   "metadata": {
    "collapsed": true
   },
   "outputs": [],
   "source": [
    "B.add_nodes_from([tuples[x][0] for x in xrange(len(tuples))], bipartite=0)\n",
    "B.add_nodes_from([tuples[x][1] for x in xrange(len(tuples))], bipartite=0)\n",
    "\n",
    "for x in xrange(len(tuples)):\n",
    "    edge = (tuples[x][0], tuples[x][1])\n",
    "    if B.has_edge(*edge):\n",
    "        B[edge[0]][edge[1]]['weight'] +=1\n",
    "    else:\n",
    "        B.add_edge(*edge, weight = 1)"
   ]
  },
  {
   "cell_type": "code",
   "execution_count": 13,
   "metadata": {
    "collapsed": false
   },
   "outputs": [
    {
     "data": {
      "text/plain": [
       "False"
      ]
     },
     "execution_count": 13,
     "metadata": {},
     "output_type": "execute_result"
    }
   ],
   "source": [
    "nx.is_connected(B)"
   ]
  },
  {
   "cell_type": "code",
   "execution_count": 14,
   "metadata": {
    "collapsed": false
   },
   "outputs": [
    {
     "data": {
      "image/png": "[encoded data removed]",
      "text/plain": [
       "<matplotlib.figure.Figure at 0xb529fd0>"
      ]
     },
     "metadata": {},
     "output_type": "display_data"
    }
   ],
   "source": [
    "nx.draw(B, with_labels=True, pos=nx.spectral_layout(G))"
   ]
  },
  {
   "cell_type": "code",
   "execution_count": 15,
   "metadata": {
    "collapsed": true
   },
   "outputs": [],
   "source": [
    "adj = [tuples[x][0] for x in xrange(len(tuples))]\n",
    "noun = [tuples[x][1] for x in xrange(len(tuples))]"
   ]
  },
  {
   "cell_type": "code",
   "execution_count": 16,
   "metadata": {
    "collapsed": true
   },
   "outputs": [],
   "source": [
    "from collections import Counter"
   ]
  },
  {
   "cell_type": "code",
   "execution_count": 17,
   "metadata": {
    "collapsed": false
   },
   "outputs": [
    {
     "data": {
      "text/plain": [
       "[(u'klein', 6),\n",
       " (u'edel', 5),\n",
       " (u'modern', 4),\n",
       " (u'gro\\xdf', 4),\n",
       " (u'historisch', 4),\n",
       " (u'hell', 3),\n",
       " (u'romantisch', 3),\n",
       " (u'regional', 3),\n",
       " (u'weiter', 3),\n",
       " (u'opulent', 3)]"
      ]
     },
     "execution_count": 17,
     "metadata": {},
     "output_type": "execute_result"
    }
   ],
   "source": [
    "Counter(adj).most_common(10)"
   ]
  },
  {
   "cell_type": "code",
   "execution_count": 18,
   "metadata": {
    "collapsed": false
   },
   "outputs": [
    {
     "data": {
      "text/plain": [
       "[(u'Spa', 6),\n",
       " (u'Service', 5),\n",
       " (u'Angebot', 4),\n",
       " (u'Komfort', 4),\n",
       " (u'K\\xfcche', 4),\n",
       " (u'km', 4),\n",
       " (u'Lage', 3),\n",
       " (u'Jahr', 3),\n",
       " (u'Fenster', 3),\n",
       " (u'Zimmer', 3)]"
      ]
     },
     "execution_count": 18,
     "metadata": {},
     "output_type": "execute_result"
    }
   ],
   "source": [
    "Counter(noun).most_common(10)"
   ]
  },
  {
   "cell_type": "code",
   "execution_count": 19,
   "metadata": {
    "collapsed": true
   },
   "outputs": [],
   "source": [
    "import matplotlib.pyplot as plt"
   ]
  },
  {
   "cell_type": "code",
   "execution_count": 20,
   "metadata": {
    "collapsed": false
   },
   "outputs": [],
   "source": [
    "adjectives = Counter(adj).most_common(len(adj))\n",
    "nouns = Counter(noun).most_common(len(noun))"
   ]
  },
  {
   "cell_type": "code",
   "execution_count": 21,
   "metadata": {
    "collapsed": false
   },
   "outputs": [
    {
     "data": {
      "text/plain": [
       "<matplotlib.legend.Legend at 0x816b6d8>"
      ]
     },
     "execution_count": 21,
     "metadata": {},
     "output_type": "execute_result"
    },
    {
     "data": {
      "image/png": "[encoded data removed]",
      "text/plain": [
       "<matplotlib.figure.Figure at 0xb6ac5c0>"
      ]
     },
     "metadata": {},
     "output_type": "display_data"
    }
   ],
   "source": [
    "akeys = [x[0] for x in adjectives]\n",
    "avalues = [x[1] for x in adjectives]\n",
    "nkeys = [x[0] for x in nouns]\n",
    "nvalues = [x[1] for x in nouns]\n",
    "\n",
    "plt.plot(xrange(len(akeys)), avalues, linewidth=3, label='Adjectives')\n",
    "plt.plot(xrange(len(nkeys)), nvalues, linewidth=3, label='Nouns')\n",
    "plt.legend()"
   ]
  },
  {
   "cell_type": "code",
   "execution_count": 22,
   "metadata": {
    "collapsed": false
   },
   "outputs": [
    {
     "data": {
      "text/plain": [
       "(133, 130)"
      ]
     },
     "execution_count": 22,
     "metadata": {},
     "output_type": "execute_result"
    }
   ],
   "source": [
    "len(nouns), len(adjectives)"
   ]
  },
  {
   "cell_type": "code",
   "execution_count": 23,
   "metadata": {
    "collapsed": false
   },
   "outputs": [
    {
     "data": {
      "image/png": "[encoded data removed]",
      "text/plain": [
       "<matplotlib.figure.Figure at 0xb529518>"
      ]
     },
     "metadata": {},
     "output_type": "display_data"
    }
   ],
   "source": [
    "with open('simple_adjektiv.txt') as f:\n",
    "    data = list(f)\n",
    "    \n",
    "tuples = list(z.decode('utf-8').rstrip('\\n').split(',') for z in data)\n",
    "\n",
    "G = nx.Graph()\n",
    "\n",
    "for x in xrange(len(tuples)):\n",
    "    edge = (tuples[x][0], tuples[x][1])\n",
    "    if G.has_edge(*edge):\n",
    "        G[edge[0]][edge[1]]['weight'] +=1\n",
    "    else:\n",
    "        G.add_edge(*edge, weight = 1)\n",
    "\n",
    "nx.write_graphml(G, 'simple_adj.graphml')        \n",
    "nx.draw(G, with_labels=True, pos=nx.spectral_layout(G))"
   ]
  },
  {
   "cell_type": "code",
   "execution_count": 24,
   "metadata": {
    "collapsed": false
   },
   "outputs": [
    {
     "data": {
      "text/plain": [
       "<matplotlib.legend.Legend at 0xc2f46d8>"
      ]
     },
     "execution_count": 24,
     "metadata": {},
     "output_type": "execute_result"
    },
    {
     "data": {
      "image/png": "[encoded data removed]",
      "text/plain": [
       "<matplotlib.figure.Figure at 0xb6782e8>"
      ]
     },
     "metadata": {},
     "output_type": "display_data"
    }
   ],
   "source": [
    "adj = [tuples[x][0] for x in xrange(len(tuples))]\n",
    "noun = [tuples[x][1] for x in xrange(len(tuples))]\n",
    "\n",
    "adjectives = Counter(adj).most_common(len(adj))\n",
    "nouns = Counter(noun).most_common(len(noun))\n",
    "\n",
    "akeys = [x[0] for x in adjectives]\n",
    "avalues = [x[1] for x in adjectives]\n",
    "nkeys = [x[0] for x in nouns]\n",
    "nvalues = [x[1] for x in nouns]\n",
    "\n",
    "plt.plot(xrange(len(akeys)), avalues, linewidth=3, label='Adjectives')\n",
    "plt.plot(xrange(len(nkeys)), nvalues, linewidth=3, label='Nouns')\n",
    "plt.legend()"
   ]
  },
  {
   "cell_type": "code",
   "execution_count": 25,
   "metadata": {
    "collapsed": false
   },
   "outputs": [
    {
     "data": {
      "text/plain": [
       "(115, 130)"
      ]
     },
     "execution_count": 25,
     "metadata": {},
     "output_type": "execute_result"
    }
   ],
   "source": [
    "len(nouns), len(adjectives)"
   ]
  },
  {
   "cell_type": "code",
   "execution_count": 26,
   "metadata": {
    "collapsed": false
   },
   "outputs": [
    {
     "data": {
      "image/png": "[encoded data removed]",
      "text/plain": [
       "<matplotlib.figure.Figure at 0xb539828>"
      ]
     },
     "metadata": {},
     "output_type": "display_data"
    }
   ],
   "source": [
    "with open('hyper_adjektiv.txt') as f:\n",
    "    data = list(f)\n",
    "    \n",
    "tuples = list(z.decode('utf-8').rstrip('\\n').split(',') for z in data)\n",
    "\n",
    "G = nx.Graph()\n",
    "\n",
    "for x in xrange(len(tuples)):\n",
    "    edge = (tuples[x][0], tuples[x][1])\n",
    "    if G.has_edge(*edge):\n",
    "        G[edge[0]][edge[1]]['weight'] +=1\n",
    "    else:\n",
    "        G.add_edge(*edge, weight = 1)\n",
    "\n",
    "nx.write_graphml(G, 'hyper_adj.graphml')        \n",
    "nx.draw(G, with_labels=True, pos=nx.spectral_layout(G))"
   ]
  },
  {
   "cell_type": "code",
   "execution_count": 27,
   "metadata": {
    "collapsed": false
   },
   "outputs": [
    {
     "data": {
      "text/plain": [
       "<matplotlib.legend.Legend at 0x852ba90>"
      ]
     },
     "execution_count": 27,
     "metadata": {},
     "output_type": "execute_result"
    },
    {
     "data": {
      "image/png": "[encoded data removed]",
      "text/plain": [
       "<matplotlib.figure.Figure at 0xc084710>"
      ]
     },
     "metadata": {},
     "output_type": "display_data"
    }
   ],
   "source": [
    "adj = [tuples[x][0] for x in xrange(len(tuples))]\n",
    "noun = [tuples[x][1] for x in xrange(len(tuples))]\n",
    "\n",
    "adjectives = Counter(adj).most_common(len(adj))\n",
    "nouns = Counter(noun).most_common(len(noun))\n",
    "\n",
    "akeys = [x[0] for x in adjectives]\n",
    "avalues = [x[1] for x in adjectives]\n",
    "nkeys = [x[0] for x in nouns]\n",
    "nvalues = [x[1] for x in nouns]\n",
    "\n",
    "plt.plot(xrange(len(akeys)), avalues, linewidth=3, label='Adjectives')\n",
    "plt.plot(xrange(len(nkeys)), nvalues, linewidth=3, label='Nouns')\n",
    "plt.legend()"
   ]
  },
  {
   "cell_type": "code",
   "execution_count": 28,
   "metadata": {
    "collapsed": false
   },
   "outputs": [
    {
     "data": {
      "text/plain": [
       "(46, 130)"
      ]
     },
     "execution_count": 28,
     "metadata": {},
     "output_type": "execute_result"
    }
   ],
   "source": [
    "len(nouns), len(adjectives)"
   ]
  },
  {
   "cell_type": "code",
   "execution_count": 29,
   "metadata": {
    "collapsed": false
   },
   "outputs": [
    {
     "data": {
      "image/png": "[encoded data removed]",
      "text/plain": [
       "<matplotlib.figure.Figure at 0xc415b38>"
      ]
     },
     "metadata": {},
     "output_type": "display_data"
    }
   ],
   "source": [
    "with open('synset_adjektiv.txt') as f:\n",
    "    data = list(f)\n",
    "    \n",
    "tuples = list(z.decode('utf-8').rstrip('\\n').split(',') for z in data)\n",
    "\n",
    "G = nx.Graph()\n",
    "\n",
    "for x in xrange(len(tuples)):\n",
    "    edge = (tuples[x][0], tuples[x][1])\n",
    "    if G.has_edge(*edge):\n",
    "        G[edge[0]][edge[1]]['weight'] +=1\n",
    "    else:\n",
    "        G.add_edge(*edge, weight = 1)\n",
    "\n",
    "nx.write_graphml(G, 'synset_adj.graphml')        \n",
    "nx.draw(G, with_labels=True, pos=nx.spectral_layout(G))"
   ]
  },
  {
   "cell_type": "code",
   "execution_count": 30,
   "metadata": {
    "collapsed": false
   },
   "outputs": [
    {
     "data": {
      "text/plain": [
       "<matplotlib.legend.Legend at 0x84392e8>"
      ]
     },
     "execution_count": 30,
     "metadata": {},
     "output_type": "execute_result"
    },
    {
     "data": {
      "image/png": "[encoded data removed]",
      "text/plain": [
       "<matplotlib.figure.Figure at 0xb539c50>"
      ]
     },
     "metadata": {},
     "output_type": "display_data"
    }
   ],
   "source": [
    "adj = [tuples[x][0] for x in xrange(len(tuples))]\n",
    "noun = [tuples[x][1] for x in xrange(len(tuples))]\n",
    "\n",
    "adjectives = Counter(adj).most_common(len(adj))\n",
    "nouns = Counter(noun).most_common(len(noun))\n",
    "\n",
    "akeys = [x[0] for x in adjectives]\n",
    "avalues = [x[1] for x in adjectives]\n",
    "nkeys = [x[0] for x in nouns]\n",
    "nvalues = [x[1] for x in nouns]\n",
    "\n",
    "plt.plot(xrange(len(akeys)), avalues, linewidth=3, label='Adjectives')\n",
    "plt.plot(xrange(len(nkeys)), nvalues, linewidth=3, label='Nouns')\n",
    "plt.legend()"
   ]
  },
  {
   "cell_type": "code",
   "execution_count": 31,
   "metadata": {
    "collapsed": false
   },
   "outputs": [
    {
     "data": {
      "text/plain": [
       "(10, 130)"
      ]
     },
     "execution_count": 31,
     "metadata": {},
     "output_type": "execute_result"
    }
   ],
   "source": [
    "len(nouns), len(adjectives)"
   ]
  },
  {
   "cell_type": "code",
   "execution_count": 32,
   "metadata": {
    "collapsed": false
   },
   "outputs": [],
   "source": [
    "with open('adjektiv.csv') as f:\n",
    "    one = list(f)\n",
    "with open('simple_adjektiv.txt') as f:\n",
    "    two = list(f)\n",
    "with open('hyper_adjektiv.txt') as f:\n",
    "    three = list(f)\n",
    "with open('synset_adjektiv.txt') as f:\n",
    "    four = list(f)"
   ]
  },
  {
   "cell_type": "code",
   "execution_count": 33,
   "metadata": {
    "collapsed": true
   },
   "outputs": [],
   "source": [
    "tuples = list(z.decode('utf-8').rstrip('\\n').split(',') for z in one)\n",
    "layer_one = [tuples[x][1] for x in xrange(len(tuples))]"
   ]
  },
  {
   "cell_type": "code",
   "execution_count": 34,
   "metadata": {
    "collapsed": true
   },
   "outputs": [],
   "source": [
    "tuples = list(z.decode('utf-8').rstrip('\\n').split(',') for z in two)\n",
    "layer_two = [tuples[x][1] for x in xrange(len(tuples))]"
   ]
  },
  {
   "cell_type": "code",
   "execution_count": 35,
   "metadata": {
    "collapsed": true
   },
   "outputs": [],
   "source": [
    "tuples = list(z.decode('utf-8').rstrip('\\n').split(',') for z in three)\n",
    "layer_three = [tuples[x][1] for x in xrange(len(tuples))]"
   ]
  },
  {
   "cell_type": "code",
   "execution_count": 36,
   "metadata": {
    "collapsed": true
   },
   "outputs": [],
   "source": [
    "tuples = list(z.decode('utf-8').rstrip('\\n').split(',') for z in four)\n",
    "layer_four = [tuples[x][1] for x in xrange(len(tuples))]"
   ]
  },
  {
   "cell_type": "code",
   "execution_count": 37,
   "metadata": {
    "collapsed": false
   },
   "outputs": [
    {
     "data": {
      "text/plain": [
       "[(u'noun', u'noun'),\n",
       " (u'Minuten', u'Minuten'),\n",
       " (u'Blick', u'Blick'),\n",
       " (u'Holz', u'Holz'),\n",
       " (u'Optik', u'Optik'),\n",
       " (u'Service', u'Service'),\n",
       " (u'Fall', u'Fall'),\n",
       " (u'Grundgef\\xfchl', u'Gef\\xfchl'),\n",
       " (u'Anteil', u'Anteil'),\n",
       " (u'Vorzug', u'Vorzug'),\n",
       " (u'Seehotel', u'Hotel'),\n",
       " (u'Spa', u'Spa'),\n",
       " (u'Gourmetk\\xfcche', u'K\\xfcche'),\n",
       " (u'Sky-Lounge', u'Lounge'),\n",
       " (u'Badekultur', u'Badekultur'),\n",
       " (u'Beziehung', u'Beziehung'),\n",
       " (u'Thermalbad', u'Thermalbad'),\n",
       " (u'Hei\\xdfwasserbecken', u'Hei\\xdfwasserbecken'),\n",
       " (u'Outdoor-Saunalandschaft', u'Landschaft'),\n",
       " (u'H\\xfcttensauna', u'Sauna'),\n",
       " (u'Angebot', u'Angebot'),\n",
       " (u'Reiz', u'Reiz'),\n",
       " (u'Bereich', u'Bereich'),\n",
       " (u'Komfort', u'Komfort'),\n",
       " (u'Komfort', u'Komfort'),\n",
       " (u'Holzinterieur', u'Holzinterieur'),\n",
       " (u'Holzinterieur', u'Holzinterieur'),\n",
       " (u'Fenster', u'Fenster'),\n",
       " (u'Element', u'Element'),\n",
       " (u'Design', u'Design'),\n",
       " (u'Seeblick', u'Blick'),\n",
       " (u'Strand', u'Strand'),\n",
       " (u'Blick', u'Blick'),\n",
       " (u'K\\xfcche', u'K\\xfcche'),\n",
       " (u'Atmosph\\xe4re', u'Atmosph\\xe4re'),\n",
       " (u'Wohl', u'Wohl'),\n",
       " (u'Fr\\xfchst\\xfccksb\\xfcfett', u'Fr\\xfchst\\xfcck'),\n",
       " (u'Mittagskarte', u'Karte'),\n",
       " (u'Feinschmeckerk\\xfcche ', u'K\\xfcche '),\n",
       " (u'Lounge', u'Lounge'),\n",
       " (u'Au\\xdfenpool', u'Au\\xdfenpool'),\n",
       " (u'Au\\xdfenpool', u'Au\\xdfenpool'),\n",
       " (u'Liegewiese', u'Liegewiese'),\n",
       " (u'Seeufer', u'Seeufer'),\n",
       " (u'Pfarrhaus', u'Pfarrhaus'),\n",
       " (u'Zimmer', u'Zimmer'),\n",
       " (u'Wintergarten', u'Wintergarten'),\n",
       " (u'Gastlichkeit', u'Gastlichkeit'),\n",
       " (u'Komfort', u'Komfort'),\n",
       " (u'Service', u'Service'),\n",
       " (u'Tagungsraum', u'Tagungsraum'),\n",
       " (u'Angebot', u'Angebot'),\n",
       " (u'Atmosph\\xe4re', u'Atmosph\\xe4re'),\n",
       " (u'Ambiente', u'Ambiente'),\n",
       " (u'Charme', u'Charme'),\n",
       " (u'Komfort', u'Komfort'),\n",
       " (u'Eleganz', u'Eleganz'),\n",
       " (u'Leichtigkeit', u'Leichtigkeit'),\n",
       " (u'Holzton', u'Ton'),\n",
       " (u'Weise', u'Weise'),\n",
       " (u'Farbe', u'Farbe'),\n",
       " (u'Antiquit\\xe4ten', u'Antiquit\\xe4ten'),\n",
       " (u'Kunst', u'Kunst'),\n",
       " (u'Bereich', u'Bereich'),\n",
       " (u'Pracht', u'Pracht'),\n",
       " (u'Palais-Suite', u'Suite'),\n",
       " (u'WC', u'WC'),\n",
       " (u'Einrichtung', u'Einrichtung'),\n",
       " (u'Stoff', u'Stoff'),\n",
       " (u'Material', u'Material'),\n",
       " (u'WLAN', u'WLAN'),\n",
       " (u'Sternek\\xfcche', u'K\\xfcche'),\n",
       " (u'Rahmen', u'Rahmen'),\n",
       " (u'K\\xfcche', u'K\\xfcche'),\n",
       " (u'K\\xfcche', u'K\\xfcche'),\n",
       " (u'K\\xfcche', u'K\\xfcche'),\n",
       " (u'Idee', u'Idee'),\n",
       " (u'K\\xf6stlichkeit', u'K\\xf6stlichkeit'),\n",
       " (u'Altstadt', u'Altstadt'),\n",
       " (u'N\\xe4he', u'N\\xe4he'),\n",
       " (u'Dreik\\xf6nigskirche', u'Dreik\\xf6nigskirche'),\n",
       " (u'Lage', u'Lage'),\n",
       " (u'Fassade', u'Fassade'),\n",
       " (u'Gasse', u'Gasse'),\n",
       " (u'Innenhof', u'Innenhof'),\n",
       " (u'Sehensw\\xfcrdigkeit', u'Sehensw\\xfcrdigkeit'),\n",
       " (u'Elbe', u'Elbe'),\n",
       " (u'Fr\\xfchst\\xfccksb\\xfcfett', u'Fr\\xfchst\\xfcck'),\n",
       " (u'Bistro', u'Bistro'),\n",
       " (u'Bar', u'Bar'),\n",
       " (u'Mahl', u'Mahl'),\n",
       " (u'Produkt', u'Produkt'),\n",
       " (u'Spezialit\\xe4t', u'Spezialit\\xe4t'),\n",
       " (u'Angebot', u'Angebot'),\n",
       " (u'Service', u'Service'),\n",
       " (u'Fr\\xfchst\\xfcck', u'Fr\\xfchst\\xfcck'),\n",
       " (u'Gericht', u'Gericht'),\n",
       " (u'Gericht', u'Gericht'),\n",
       " (u'Gericht', u'Gericht'),\n",
       " (u'Snack', u'Snack'),\n",
       " (u'Glaskuppeldach', u'Glaskuppeldach'),\n",
       " (u'Wintergarten', u'Wintergarten'),\n",
       " (u'Marmorboden', u'Marmorboden'),\n",
       " (u'Marmorboden', u'Marmorboden'),\n",
       " (u'Gourmetrestaurant', u'Restaurant'),\n",
       " (u'Clubatmosph\\xe4re', u'Atmosph\\xe4re'),\n",
       " (u'Weinkarte', u'Karte'),\n",
       " (u'Cocktail', u'Cocktail'),\n",
       " (u'Angebot', u'Angebot'),\n",
       " (u'Spa', u'Spa'),\n",
       " (u'Fitnessraum', u'Fitnessraum'),\n",
       " (u'Spa', u'Spa'),\n",
       " (u'Spannkraft', u'Spannkraft'),\n",
       " (u'Wellnessbereich', u'Wellnessbereich'),\n",
       " (u'Fitnessraum', u'Fitnessraum'),\n",
       " (u'Ger\\xe4t', u'Ger\\xe4t'),\n",
       " (u'Substanz', u'Substanz'),\n",
       " (u'Stil', u'Stil'),\n",
       " (u'Sauna', u'Sauna'),\n",
       " (u'Kutschfahrt', u'Kutschfahrt'),\n",
       " (u'Lage', u'Lage'),\n",
       " (u'Lage', u'Lage'),\n",
       " (u'Nachbarschaft', u'Nachbarschaft'),\n",
       " (u'Altstadt', u'Altstadt'),\n",
       " (u'R\\xe4umlichkeit', u'R\\xe4umlichkeit'),\n",
       " (u'Feiern', u'Feiern'),\n",
       " (u'Meeting', u'Meeting'),\n",
       " (u'Suite', u'Suite'),\n",
       " (u'Tagungsraum', u'Tagungsraum'),\n",
       " (u'Technik', u'Technik'),\n",
       " (u'Service', u'Service'),\n",
       " (u'Designhotel', u'Hotel'),\n",
       " (u'Designhotel', u'Designhotel'),\n",
       " (u'Glaskuppelsuite', u'Glaskuppelsuite'),\n",
       " (u'Ostseeblick', u'Blick'),\n",
       " (u'Raumgestaltung', u'Raumgestaltung'),\n",
       " (u'Spa', u'Spa'),\n",
       " (u'Klasse', u'Klasse'),\n",
       " (u'Reihe', u'Reihe'),\n",
       " (u'Strandvilla', u'Hotel'),\n",
       " (u'Hotel', u'Hotel'),\n",
       " (u'Glaskuppel', u'Glaskuppel'),\n",
       " (u'B\\xe4derachitektur', u'Architektur'),\n",
       " (u'Schwarzt\\xf6ne', u'Ton'),\n",
       " (u'Harmonieeffekt', u'Atmosph\\xe4re'),\n",
       " (u'Spa', u'Spa'),\n",
       " (u'Spa', u'Spa'),\n",
       " (u'Service', u'Service'),\n",
       " (u'Luxushotel', u'Hotel'),\n",
       " (u'Fenster', u'Fenster'),\n",
       " (u'Licht', u'Licht'),\n",
       " (u'Einrichtung', u'Einrichtung'),\n",
       " (u'Austattung', u'Austattung'),\n",
       " (u'Kingsize-Bett', u'Bett'),\n",
       " (u'Spitzenk\\xfcche', u'K\\xfcche'),\n",
       " (u'Fenster', u'Fenster'),\n",
       " (u'Genuss-Highlight', u'Genuss'),\n",
       " (u'Sauna', u'Sauna'),\n",
       " (u'Treatment', u'Genuss'),\n",
       " (u'Massage', u'Massage'),\n",
       " (u'Zimmer', u'Zimmer'),\n",
       " (u'Jahr', u'Jahr'),\n",
       " (u'Jahr', u'Jahr'),\n",
       " (u'Zimmer', u'Zimmer'),\n",
       " (u'qm', u'qm'),\n",
       " (u'Schlafraum', u'Schlafraum'),\n",
       " (u'Bad', u'Bad'),\n",
       " (u'Stern', u'Stern'),\n",
       " (u'GaultMillau-Punkt', u'GaultMillau-Punkt'),\n",
       " (u'Haube', u'Haube'),\n",
       " (u'Diamant', u'Diamant'),\n",
       " (u'Jahr', u'Jahr'),\n",
       " (u'km', u'km'),\n",
       " (u'Minuten', u'Minuten'),\n",
       " (u'km', u'km'),\n",
       " (u'km', u'km'),\n",
       " (u'km', u'km'),\n",
       " (u'R\\xe4umlichkeit', u'R\\xe4umlichkeit'),\n",
       " (u'Person', u'Person'),\n",
       " (u'G\\xe4stezimmer', u'Zimmer')]"
      ]
     },
     "execution_count": 37,
     "metadata": {},
     "output_type": "execute_result"
    }
   ],
   "source": [
    "leaf_pairs = zip(layer_one, layer_two)\n",
    "leaf_pairs"
   ]
  },
  {
   "cell_type": "code",
   "execution_count": 38,
   "metadata": {
    "collapsed": false
   },
   "outputs": [
    {
     "data": {
      "text/plain": [
       "[(u'noun', u'noun'),\n",
       " (u'Minuten', u'Zeit'),\n",
       " (u'Blick', u'Blick'),\n",
       " (u'Holz', u'Material'),\n",
       " (u'Optik', u'Aussehen'),\n",
       " (u'Service', u'Service'),\n",
       " (u'Fall', u'Fall'),\n",
       " (u'Gef\\xfchl', u'Gef\\xfchl'),\n",
       " (u'Anteil', u'Anteil'),\n",
       " (u'Vorzug', u'Vorzug'),\n",
       " (u'Hotel', u'Hotel'),\n",
       " (u'Spa', u'Wellness'),\n",
       " (u'K\\xfcche', u'Essen'),\n",
       " (u'Lounge', u'Bereich'),\n",
       " (u'Badekultur', u'Badekultur'),\n",
       " (u'Beziehung', u'Beziehung'),\n",
       " (u'Thermalbad', u'Wellness'),\n",
       " (u'Hei\\xdfwasserbecken', u'Wellness'),\n",
       " (u'Landschaft', u'Ort'),\n",
       " (u'Sauna', u'Wellness'),\n",
       " (u'Angebot', u'Angebot'),\n",
       " (u'Reiz', u'Gef\\xfchl'),\n",
       " (u'Bereich', u'Bereich'),\n",
       " (u'Komfort', u'Gef\\xfchl'),\n",
       " (u'Komfort', u'Gef\\xfchl'),\n",
       " (u'Holzinterieur', u'Material'),\n",
       " (u'Holzinterieur', u'Material'),\n",
       " (u'Fenster', u'Einrichtung'),\n",
       " (u'Element', u'Design'),\n",
       " (u'Design', u'Design'),\n",
       " (u'Blick', u'Blick'),\n",
       " (u'Strand', u'Ort'),\n",
       " (u'Blick', u'Blick'),\n",
       " (u'K\\xfcche', u'Essen'),\n",
       " (u'Atmosph\\xe4re', u'Gef\\xfchl'),\n",
       " (u'Wohl', u'Gef\\xfchl'),\n",
       " (u'Fr\\xfchst\\xfcck', u'Essen'),\n",
       " (u'Karte', u'Essen'),\n",
       " (u'K\\xfcche ', u'Essen '),\n",
       " (u'Lounge', u'Bereich'),\n",
       " (u'Au\\xdfenpool', u'Au\\xdfen'),\n",
       " (u'Au\\xdfenpool', u'Au\\xdfen'),\n",
       " (u'Liegewiese', u'Au\\xdfen'),\n",
       " (u'Seeufer', u'Seeufer'),\n",
       " (u'Pfarrhaus', u'Hotel'),\n",
       " (u'Zimmer', u'Bereich'),\n",
       " (u'Wintergarten', u'Au\\xdfen'),\n",
       " (u'Gastlichkeit', u'Gef\\xfchl'),\n",
       " (u'Komfort', u'Gef\\xfchl'),\n",
       " (u'Service', u'Service'),\n",
       " (u'Tagungsraum', u'Zimmer'),\n",
       " (u'Angebot', u'Angebot'),\n",
       " (u'Atmosph\\xe4re', u'Gef\\xfchl'),\n",
       " (u'Ambiente', u'Design'),\n",
       " (u'Charme', u'Gef\\xfchl'),\n",
       " (u'Komfort', u'Gef\\xfchl'),\n",
       " (u'Eleganz', u'Eleganz'),\n",
       " (u'Leichtigkeit', u'Leichtigkeit'),\n",
       " (u'Ton', u'Farbe'),\n",
       " (u'Weise', u'Weise'),\n",
       " (u'Farbe', u'Farbe'),\n",
       " (u'Antiquit\\xe4ten', u'Design'),\n",
       " (u'Kunst', u'Design'),\n",
       " (u'Bereich', u'Bereich'),\n",
       " (u'Pracht', u'Design'),\n",
       " (u'Suite', u'Zimmer'),\n",
       " (u'WC', u'Einrichtung'),\n",
       " (u'Einrichtung', u'Einrichtung'),\n",
       " (u'Stoff', u'Material'),\n",
       " (u'Material', u'Material'),\n",
       " (u'WLAN', u'Einrichtung'),\n",
       " (u'K\\xfcche', u'Essen'),\n",
       " (u'Rahmen', u'Design'),\n",
       " (u'K\\xfcche', u'Essen'),\n",
       " (u'K\\xfcche', u'Essen'),\n",
       " (u'K\\xfcche', u'Essen'),\n",
       " (u'Idee', u'Idee'),\n",
       " (u'K\\xf6stlichkeit', u'Essen'),\n",
       " (u'Altstadt', u'Ort'),\n",
       " (u'N\\xe4he', u'Ort'),\n",
       " (u'Dreik\\xf6nigskirche', u'Ort'),\n",
       " (u'Lage', u'Hotel'),\n",
       " (u'Fassade', u'Architektur'),\n",
       " (u'Gasse', u'Ort'),\n",
       " (u'Innenhof', u'Au\\xdfen'),\n",
       " (u'Sehensw\\xfcrdigkeit', u'Ort'),\n",
       " (u'Elbe', u'Ort'),\n",
       " (u'Fr\\xfchst\\xfcck', u'Essen'),\n",
       " (u'Bistro', u'Essen'),\n",
       " (u'Bar', u'Bar'),\n",
       " (u'Mahl', u'Mahl'),\n",
       " (u'Produkt', u'Produkt'),\n",
       " (u'Spezialit\\xe4t', u'Essen'),\n",
       " (u'Angebot', u'Angebot'),\n",
       " (u'Service', u'Service'),\n",
       " (u'Fr\\xfchst\\xfcck', u'Essen'),\n",
       " (u'Gericht', u'Essen'),\n",
       " (u'Gericht', u'Essen'),\n",
       " (u'Gericht', u'Essen'),\n",
       " (u'Snack', u'Essen'),\n",
       " (u'Glaskuppeldach', u'Architektur'),\n",
       " (u'Wintergarten', u'Au\\xdfen'),\n",
       " (u'Marmorboden', u'Einrichtung'),\n",
       " (u'Marmorboden', u'Einrichtung'),\n",
       " (u'Restaurant', u'Essen'),\n",
       " (u'Atmosph\\xe4re', u'Gef\\xfchl'),\n",
       " (u'Karte', u'Essen'),\n",
       " (u'Cocktail', u'Essen'),\n",
       " (u'Angebot', u'Angebot'),\n",
       " (u'Spa', u'Wellness'),\n",
       " (u'Fitnessraum', u'Wellness'),\n",
       " (u'Spa', u'Wellness'),\n",
       " (u'Spannkraft', u'Wellness'),\n",
       " (u'Wellnessbereich', u'Wellnes'),\n",
       " (u'Fitnessraum', u'Wellness'),\n",
       " (u'Ger\\xe4t', u'Einrichtung'),\n",
       " (u'Substanz', u'Substanz'),\n",
       " (u'Stil', u'Design'),\n",
       " (u'Sauna', u'Wellness'),\n",
       " (u'Kutschfahrt', u'Kutschfahrt'),\n",
       " (u'Lage', u'Hotel'),\n",
       " (u'Lage', u'Hotel'),\n",
       " (u'Nachbarschaft', u'Ort'),\n",
       " (u'Altstadt', u'Ort'),\n",
       " (u'R\\xe4umlichkeit', u'Zimmer'),\n",
       " (u'Feiern', u'Feiern'),\n",
       " (u'Meeting', u'Meeting'),\n",
       " (u'Suite', u'Zimmer'),\n",
       " (u'Tagungsraum', u'Zimmer'),\n",
       " (u'Technik', u'Einrichtung'),\n",
       " (u'Service', u'Service'),\n",
       " (u'Hotel', u'Hotel'),\n",
       " (u'Designhotel', u'Hotel'),\n",
       " (u'Glaskuppelsuite', u'Zimmer'),\n",
       " (u'Blick', u'Blick'),\n",
       " (u'Raumgestaltung', u'Einrichtung'),\n",
       " (u'Spa', u'Wellness'),\n",
       " (u'Klasse', u'Klasse'),\n",
       " (u'Reihe', u'Reihe'),\n",
       " (u'Hotel', u'Hotel'),\n",
       " (u'Hotel', u'Hotel'),\n",
       " (u'Glaskuppel', u'Design'),\n",
       " (u'Architektur', u'Design'),\n",
       " (u'Ton', u'Farbe'),\n",
       " (u'Atmosph\\xe4re', u'Gef\\xfchl'),\n",
       " (u'Spa', u'Wellness'),\n",
       " (u'Spa', u'Wellness'),\n",
       " (u'Service', u'Service'),\n",
       " (u'Hotel', u'Hotel'),\n",
       " (u'Fenster', u'Einrichtung'),\n",
       " (u'Licht', u'Licht'),\n",
       " (u'Einrichtung', u'Einrichtung'),\n",
       " (u'Austattung', u'Einrichtung'),\n",
       " (u'Bett', u'Einrichtung'),\n",
       " (u'K\\xfcche', u'Essen'),\n",
       " (u'Fenster', u'Einrichtung'),\n",
       " (u'Genuss', u'Gef\\xfchl'),\n",
       " (u'Sauna', u'Wellness'),\n",
       " (u'Genuss', u'Gef\\xfchl'),\n",
       " (u'Massage', u'Wellness'),\n",
       " (u'Zimmer', u'Bereich'),\n",
       " (u'Jahr', u'Zeit'),\n",
       " (u'Jahr', u'Zeit'),\n",
       " (u'Zimmer', u'Bereich'),\n",
       " (u'qm', u'Fl\\xe4che'),\n",
       " (u'Schlafraum', u'Zimmer'),\n",
       " (u'Bad', u'Bad'),\n",
       " (u'Stern', u'Preis'),\n",
       " (u'GaultMillau-Punkt', u'Preis'),\n",
       " (u'Haube', u'Preis'),\n",
       " (u'Diamant', u'Preis'),\n",
       " (u'Jahr', u'Zeit'),\n",
       " (u'km', u'Fl\\xe4che'),\n",
       " (u'Minuten', u'Minuten'),\n",
       " (u'km', u'Fl\\xe4che'),\n",
       " (u'km', u'Fl\\xe4che'),\n",
       " (u'km', u'Fl\\xe4che'),\n",
       " (u'R\\xe4umlichkeit', u'Zimmer'),\n",
       " (u'Person', u'Person'),\n",
       " (u'Zimmer', u'Bereich')]"
      ]
     },
     "execution_count": 38,
     "metadata": {},
     "output_type": "execute_result"
    }
   ],
   "source": [
    "trunk_pairs = zip(layer_two, layer_three)\n",
    "trunk_pairs"
   ]
  },
  {
   "cell_type": "code",
   "execution_count": 39,
   "metadata": {
    "collapsed": false
   },
   "outputs": [
    {
     "data": {
      "text/plain": [
       "[(u'noun', u'noun'),\n",
       " (u'Zeit', u'Zeit'),\n",
       " (u'Blick', u'Sinn'),\n",
       " (u'Material', u'Sinn'),\n",
       " (u'Aussehen', u'Sinn'),\n",
       " (u'Service', u'Erlebnis'),\n",
       " (u'Fall', u'Erlebnis'),\n",
       " (u'Gef\\xfchl', u'Sinn'),\n",
       " (u'Anteil', u'Erlebnis'),\n",
       " (u'Vorzug', u'Sinn'),\n",
       " (u'Hotel', u'Hotel'),\n",
       " (u'Wellness', u'Erlebnis'),\n",
       " (u'Essen', u'Essen'),\n",
       " (u'Bereich', u'Hotel'),\n",
       " (u'Badekultur', u'Sinn'),\n",
       " (u'Beziehung', u'Sinn'),\n",
       " (u'Wellness', u'Erlebnis'),\n",
       " (u'Wellness', u'Erlebnis'),\n",
       " (u'Ort', u'Ort'),\n",
       " (u'Wellness', u'Erlebnis'),\n",
       " (u'Angebot', u'Erlebnis'),\n",
       " (u'Gef\\xfchl', u'Sinn'),\n",
       " (u'Bereich', u'Hotel'),\n",
       " (u'Gef\\xfchl', u'Sinn'),\n",
       " (u'Gef\\xfchl', u'Sinn'),\n",
       " (u'Material', u'Sinn'),\n",
       " (u'Material', u'Sinn'),\n",
       " (u'Einrichtung', u'Hotel'),\n",
       " (u'Design', u'Sinn'),\n",
       " (u'Design', u'Sinn'),\n",
       " (u'Blick', u'Sinn'),\n",
       " (u'Ort', u'Ort'),\n",
       " (u'Blick', u'Sinn'),\n",
       " (u'Essen', u'Essen'),\n",
       " (u'Gef\\xfchl', u'Sinn'),\n",
       " (u'Gef\\xfchl', u'Sinn'),\n",
       " (u'Essen', u'Essen'),\n",
       " (u'Essen', u'Essen'),\n",
       " (u'Essen ', u'Essen '),\n",
       " (u'Bereich', u'Hotel'),\n",
       " (u'Au\\xdfen', u'Hotel'),\n",
       " (u'Au\\xdfen', u'Hotel'),\n",
       " (u'Au\\xdfen', u'Hotel'),\n",
       " (u'Seeufer', u'Ort'),\n",
       " (u'Hotel', u'Hotel'),\n",
       " (u'Bereich', u'Hotel'),\n",
       " (u'Au\\xdfen', u'Hotel'),\n",
       " (u'Gef\\xfchl', u'Sinn'),\n",
       " (u'Gef\\xfchl', u'Sinn'),\n",
       " (u'Service', u'Erlebnis'),\n",
       " (u'Zimmer', u'Hotel'),\n",
       " (u'Angebot', u'Erlebnis'),\n",
       " (u'Gef\\xfchl', u'Sinn'),\n",
       " (u'Design', u'Sinn'),\n",
       " (u'Gef\\xfchl', u'Sinn'),\n",
       " (u'Gef\\xfchl', u'Sinn'),\n",
       " (u'Eleganz', u'Sinn'),\n",
       " (u'Leichtigkeit', u'Sinn'),\n",
       " (u'Farbe', u'Sinn'),\n",
       " (u'Weise', u'Sinn'),\n",
       " (u'Farbe', u'Sinn'),\n",
       " (u'Design', u'Sinn'),\n",
       " (u'Design', u'Sinn'),\n",
       " (u'Bereich', u'Hotel'),\n",
       " (u'Design', u'Sinn'),\n",
       " (u'Zimmer', u'Hotel'),\n",
       " (u'Einrichtung', u'Hotel'),\n",
       " (u'Einrichtung', u'Hotel'),\n",
       " (u'Material', u'Sinn'),\n",
       " (u'Material', u'Sinn'),\n",
       " (u'Einrichtung', u'Hotel'),\n",
       " (u'Essen', u'Essen'),\n",
       " (u'Design', u'Sinn'),\n",
       " (u'Essen', u'Essen'),\n",
       " (u'Essen', u'Essen'),\n",
       " (u'Essen', u'Essen'),\n",
       " (u'Idee', u'Sinn'),\n",
       " (u'Essen', u'Essen'),\n",
       " (u'Ort', u'Ort'),\n",
       " (u'Ort', u'Ort'),\n",
       " (u'Ort', u'Ort'),\n",
       " (u'Hotel', u'Hotel'),\n",
       " (u'Architektur', u'Sinn'),\n",
       " (u'Ort', u'Ort'),\n",
       " (u'Au\\xdfen', u'Hotel'),\n",
       " (u'Ort', u'Ort'),\n",
       " (u'Ort', u'Ort'),\n",
       " (u'Essen', u'Essen'),\n",
       " (u'Essen', u'Essen'),\n",
       " (u'Bar', u'Hotel'),\n",
       " (u'Mahl', u'Essen'),\n",
       " (u'Produkt', u'Essen'),\n",
       " (u'Essen', u'Essen'),\n",
       " (u'Angebot', u'Erlebnis'),\n",
       " (u'Service', u'Erlebnis'),\n",
       " (u'Essen', u'Essen'),\n",
       " (u'Essen', u'Essen'),\n",
       " (u'Essen', u'Essen'),\n",
       " (u'Essen', u'Essen'),\n",
       " (u'Essen', u'Essen'),\n",
       " (u'Architektur', u'Sinn'),\n",
       " (u'Au\\xdfen', u'Hotel'),\n",
       " (u'Einrichtung', u'Hotel'),\n",
       " (u'Einrichtung', u'Hotel'),\n",
       " (u'Essen', u'Essen'),\n",
       " (u'Gef\\xfchl', u'Sinn'),\n",
       " (u'Essen', u'Essen'),\n",
       " (u'Essen', u'Essen'),\n",
       " (u'Angebot', u'Erlebnis'),\n",
       " (u'Wellness', u'Erlebnis'),\n",
       " (u'Wellness', u'Erlebnis'),\n",
       " (u'Wellness', u'Erlebnis'),\n",
       " (u'Wellness', u'Erlebnis'),\n",
       " (u'Wellnes', u'Erlebnis'),\n",
       " (u'Wellness', u'Erlebnis'),\n",
       " (u'Einrichtung', u'Hotel'),\n",
       " (u'Substanz', u'Erlebnis'),\n",
       " (u'Design', u'Sinn'),\n",
       " (u'Wellness', u'Erlebnis'),\n",
       " (u'Kutschfahrt', u'Erlebnis'),\n",
       " (u'Hotel', u'Hotel'),\n",
       " (u'Hotel', u'Hotel'),\n",
       " (u'Ort', u'Ort'),\n",
       " (u'Ort', u'Ort'),\n",
       " (u'Zimmer', u'Hotel'),\n",
       " (u'Feiern', u'Erlebnis'),\n",
       " (u'Meeting', u'Erlebnis'),\n",
       " (u'Zimmer', u'Hotel'),\n",
       " (u'Zimmer', u'Hotel'),\n",
       " (u'Einrichtung', u'Hotel'),\n",
       " (u'Service', u'Erlebnis'),\n",
       " (u'Hotel', u'Hotel'),\n",
       " (u'Hotel', u'Hotel'),\n",
       " (u'Zimmer', u'Hotel'),\n",
       " (u'Blick', u'Sinn'),\n",
       " (u'Einrichtung', u'Hotel'),\n",
       " (u'Wellness', u'Erlebnis'),\n",
       " (u'Klasse', u'Sinn'),\n",
       " (u'Reihe', u'Erlebnis'),\n",
       " (u'Hotel', u'Hotel'),\n",
       " (u'Hotel', u'Hotel'),\n",
       " (u'Design', u'Sinn'),\n",
       " (u'Design', u'Sinn'),\n",
       " (u'Farbe', u'Sinn'),\n",
       " (u'Gef\\xfchl', u'Sinn'),\n",
       " (u'Wellness', u'Erlebnis'),\n",
       " (u'Wellness', u'Erlebnis'),\n",
       " (u'Service', u'Erlebnis'),\n",
       " (u'Hotel', u'Hotel'),\n",
       " (u'Einrichtung', u'Hotel'),\n",
       " (u'Licht', u'Sinn'),\n",
       " (u'Einrichtung', u'Hotel'),\n",
       " (u'Einrichtung', u'Hotel'),\n",
       " (u'Einrichtung', u'Hotel'),\n",
       " (u'Essen', u'Essen'),\n",
       " (u'Einrichtung', u'Hotel'),\n",
       " (u'Gef\\xfchl', u'Sinn'),\n",
       " (u'Wellness', u'Erlebnis'),\n",
       " (u'Gef\\xfchl', u'Sinn'),\n",
       " (u'Wellness', u'Erlebnis'),\n",
       " (u'Bereich', u'Hotel'),\n",
       " (u'Zeit', u'Zeit'),\n",
       " (u'Zeit', u'Zeit'),\n",
       " (u'Bereich', u'Hotel'),\n",
       " (u'Fl\\xe4che', u'Fl\\xe4che'),\n",
       " (u'Zimmer', u'Hotel'),\n",
       " (u'Bad', u'Erlebnis'),\n",
       " (u'Preis', u'Preis'),\n",
       " (u'Preis', u'Preis'),\n",
       " (u'Preis', u'Preis'),\n",
       " (u'Preis', u'Preis'),\n",
       " (u'Zeit', u'Zeit'),\n",
       " (u'Fl\\xe4che', u'Fl\\xe4che'),\n",
       " (u'Minuten', u'Zeit'),\n",
       " (u'Fl\\xe4che', u'Fl\\xe4che'),\n",
       " (u'Fl\\xe4che', u'Fl\\xe4che'),\n",
       " (u'Fl\\xe4che', u'Fl\\xe4che'),\n",
       " (u'Zimmer', u'Hotel'),\n",
       " (u'Person', u'Hotel'),\n",
       " (u'Bereich', u'Hotel')]"
      ]
     },
     "execution_count": 39,
     "metadata": {},
     "output_type": "execute_result"
    }
   ],
   "source": [
    "root_pairs = zip(layer_three, layer_four)\n",
    "root_pairs"
   ]
  },
  {
   "cell_type": "code",
   "execution_count": 40,
   "metadata": {
    "collapsed": true
   },
   "outputs": [],
   "source": [
    "G = nx.Graph()"
   ]
  },
  {
   "cell_type": "code",
   "execution_count": 42,
   "metadata": {
    "collapsed": false
   },
   "outputs": [],
   "source": [
    "pairs = [leaf_pairs, trunk_pairs, root_pairs]\n",
    "\n",
    "for pair in pairs:\n",
    "    for x in xrange(len(pair)):\n",
    "        if pair[x][0] != pair[x][1]:\n",
    "            edge = (pair[x][0], pair[x][1])\n",
    "            if G.has_edge(*edge):\n",
    "                G[edge[0]][edge[1]]['weight'] +=1\n",
    "            else:\n",
    "                G.add_edge(*edge, weight = 1)"
   ]
  },
  {
   "cell_type": "code",
   "execution_count": 43,
   "metadata": {
    "collapsed": false
   },
   "outputs": [
    {
     "data": {
      "image/png": "[encoded data removed]",
      "text/plain": [
       "<matplotlib.figure.Figure at 0xc021c18>"
      ]
     },
     "metadata": {},
     "output_type": "display_data"
    }
   ],
   "source": [
    "nx.write_graphml(G, 'nouns.graphml')        \n",
    "nx.draw(G, with_labels=True, pos=nx.spectral_layout(G))"
   ]
  },
  {
   "cell_type": "code",
   "execution_count": 60,
   "metadata": {
    "collapsed": false
   },
   "outputs": [],
   "source": [
    "with open('adjektiv.csv') as f:\n",
    "    one = list(f)\n",
    "    \n",
    "tuples = list(z.decode('utf-8').rstrip('\\n').split(',') for z in one)\n",
    "\n",
    "with open('nodes.csv', 'w') as f:\n",
    "    f.write('id,value')\n",
    "    f.write('synset')\n",
    "    for x in xrange(len(tuples)):\n",
    "        f.write('synset.' + str(tuples[x][0].encode('utf-8')) + '.' + str(tuples[x][1].encode('utf-8') + ',10\\n'))"
   ]
  },
  {
   "cell_type": "code",
   "execution_count": null,
   "metadata": {
    "collapsed": true
   },
   "outputs": [],
   "source": []
  }
 ],
 "metadata": {
  "kernelspec": {
   "display_name": "Python 2",
   "language": "python",
   "name": "python2"
  },
  "language_info": {
   "codemirror_mode": {
    "name": "ipython",
    "version": 2
   },
   "file_extension": ".py",
   "mimetype": "text/x-python",
   "name": "python",
   "nbconvert_exporter": "python",
   "pygments_lexer": "ipython2",
   "version": "2.7.12"
  }
 },
 "nbformat": 4,
 "nbformat_minor": 0
}
